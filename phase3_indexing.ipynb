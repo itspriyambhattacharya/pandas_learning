{
 "cells": [
  {
   "cell_type": "markdown",
   "id": "4120ecbd",
   "metadata": {},
   "source": [
    "# Indexing in Pandas"
   ]
  },
  {
   "cell_type": "markdown",
   "id": "8eb5051b",
   "metadata": {},
   "source": []
  }
 ],
 "metadata": {
  "language_info": {
   "name": "python"
  }
 },
 "nbformat": 4,
 "nbformat_minor": 5
}
